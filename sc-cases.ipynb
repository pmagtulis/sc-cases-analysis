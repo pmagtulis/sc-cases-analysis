{
 "cells": [
  {
   "cell_type": "markdown",
   "id": "3fc76688",
   "metadata": {},
   "source": [
    "# Analyzing Supreme Court decisions\n",
    "\n",
    "Background: This notebook analyzes scraped information from the Philippine Supreme Court [website](https://elibrary.judiciary.gov.ph/)."
   ]
  },
  {
   "cell_type": "markdown",
   "id": "90027908",
   "metadata": {},
   "source": [
    "## Do your imports"
   ]
  },
  {
   "cell_type": "code",
   "execution_count": 1,
   "id": "21f72036",
   "metadata": {},
   "outputs": [
    {
     "name": "stderr",
     "output_type": "stream",
     "text": [
      "/Users/prinzmagtulis/.pyenv/versions/3.10.0/lib/python3.10/site-packages/pandas/compat/__init__.py:124: UserWarning: Could not import the lzma module. Your installed Python is incomplete. Attempting to use lzma compression will result in a RuntimeError.\n",
      "  warnings.warn(msg)\n"
     ]
    }
   ],
   "source": [
    "import pandas as pd\n",
    "import numpy as np\n",
    "from plotnine import *\n",
    "import re"
   ]
  },
  {
   "cell_type": "markdown",
   "id": "edeb7b0d",
   "metadata": {},
   "source": [
    "## Read CSV\n",
    "\n",
    "The file contains the data getting scraped from the Supreme Court website every Sunday."
   ]
  },
  {
   "cell_type": "code",
   "execution_count": 2,
   "id": "c6a059d5",
   "metadata": {},
   "outputs": [
    {
     "data": {
      "text/html": [
       "<div>\n",
       "<style scoped>\n",
       "    .dataframe tbody tr th:only-of-type {\n",
       "        vertical-align: middle;\n",
       "    }\n",
       "\n",
       "    .dataframe tbody tr th {\n",
       "        vertical-align: top;\n",
       "    }\n",
       "\n",
       "    .dataframe thead th {\n",
       "        text-align: right;\n",
       "    }\n",
       "</style>\n",
       "<table border=\"1\" class=\"dataframe\">\n",
       "  <thead>\n",
       "    <tr style=\"text-align: right;\">\n",
       "      <th></th>\n",
       "      <th>case_no</th>\n",
       "      <th>title</th>\n",
       "      <th>date</th>\n",
       "      <th>case_link</th>\n",
       "      <th>division</th>\n",
       "      <th>ponente</th>\n",
       "    </tr>\n",
       "  </thead>\n",
       "  <tbody>\n",
       "    <tr>\n",
       "      <th>0</th>\n",
       "      <td>G.R. No. 205817</td>\n",
       "      <td>REPUBLIC OF THE PHILIPPINES, PETITIONER, VS. L...</td>\n",
       "      <td>October 06, 2021</td>\n",
       "      <td>https://elibrary.judiciary.gov.ph/thebookshelf...</td>\n",
       "      <td>SECOND DIVISION</td>\n",
       "      <td>HERNANDO, J.:</td>\n",
       "    </tr>\n",
       "    <tr>\n",
       "      <th>1</th>\n",
       "      <td>G.R. No. 202392</td>\n",
       "      <td>PACIFIC ROYAL BASIC FOODS, INC., PETITIONER, V...</td>\n",
       "      <td>October 04, 2021</td>\n",
       "      <td>https://elibrary.judiciary.gov.ph/thebookshelf...</td>\n",
       "      <td>SECOND DIVISION</td>\n",
       "      <td>HERNANDO, J.:</td>\n",
       "    </tr>\n",
       "    <tr>\n",
       "      <th>2</th>\n",
       "      <td>G.R. Nos. 199729-30</td>\n",
       "      <td>MANILA BANKERS' LIFE INSURANCE CORPORATION, PE...</td>\n",
       "      <td>February 27, 2019</td>\n",
       "      <td>https://elibrary.judiciary.gov.ph/thebookshelf...</td>\n",
       "      <td>THIRD DIVISION</td>\n",
       "      <td>A. REYES, JR., J.:</td>\n",
       "    </tr>\n",
       "    <tr>\n",
       "      <th>3</th>\n",
       "      <td>G.R. No. 229823</td>\n",
       "      <td>PEOPLE OF THE PHILIPPINES, PLAINTIFF-APPELLEE,...</td>\n",
       "      <td>February 27, 2019</td>\n",
       "      <td>https://elibrary.judiciary.gov.ph/thebookshelf...</td>\n",
       "      <td>FIRST DIVISION</td>\n",
       "      <td>DEL CASTILLO, J.:[*]</td>\n",
       "    </tr>\n",
       "    <tr>\n",
       "      <th>4</th>\n",
       "      <td>G.R. No. 229099</td>\n",
       "      <td>PEOPLE OF THE PHILIPPINES, PLAINTIFF-APPELLEE,...</td>\n",
       "      <td>February 27, 2019</td>\n",
       "      <td>https://elibrary.judiciary.gov.ph/thebookshelf...</td>\n",
       "      <td>FIRST DIVISION</td>\n",
       "      <td>DEL CASTILLO, J.:[*]</td>\n",
       "    </tr>\n",
       "    <tr>\n",
       "      <th>...</th>\n",
       "      <td>...</td>\n",
       "      <td>...</td>\n",
       "      <td>...</td>\n",
       "      <td>...</td>\n",
       "      <td>...</td>\n",
       "      <td>...</td>\n",
       "    </tr>\n",
       "    <tr>\n",
       "      <th>29711</th>\n",
       "      <td>G.R. No. 122807</td>\n",
       "      <td>ROGELIO P. MENDIOLA, PETITIONER, VS. COURT OF ...</td>\n",
       "      <td>July 05, 1996</td>\n",
       "      <td>https://elibrary.judiciary.gov.ph/thebookshelf...</td>\n",
       "      <td>FIRST DIVISION</td>\n",
       "      <td>HERMOSISIMA, JR., J.:</td>\n",
       "    </tr>\n",
       "    <tr>\n",
       "      <th>29712</th>\n",
       "      <td>G.R. No. 113549</td>\n",
       "      <td>REPUBLIC OF THE PHILIPPINES, (REPRESENTED BY T...</td>\n",
       "      <td>July 05, 1996</td>\n",
       "      <td>https://elibrary.judiciary.gov.ph/thebookshelf...</td>\n",
       "      <td>THIRD DIVISION</td>\n",
       "      <td>DAVIDE JR., J.:</td>\n",
       "    </tr>\n",
       "    <tr>\n",
       "      <th>29713</th>\n",
       "      <td>G.R. No. 116600</td>\n",
       "      <td>PEOPLE OF THE PHILIPPINES, PLAINTIFF-APPELLEE,...</td>\n",
       "      <td>July 03, 1996</td>\n",
       "      <td>https://elibrary.judiciary.gov.ph/thebookshelf...</td>\n",
       "      <td>THIRD DIVISION</td>\n",
       "      <td>DAVIDE, JR., J.:</td>\n",
       "    </tr>\n",
       "    <tr>\n",
       "      <th>29714</th>\n",
       "      <td>G.R. No. 119527</td>\n",
       "      <td>EVELYN J. GARCIA, PETITIONER, VS. NATIONAL LAB...</td>\n",
       "      <td>July 03, 1996</td>\n",
       "      <td>https://elibrary.judiciary.gov.ph/thebookshelf...</td>\n",
       "      <td>SECOND DIVISION</td>\n",
       "      <td>ROMERO, J.:</td>\n",
       "    </tr>\n",
       "    <tr>\n",
       "      <th>29715</th>\n",
       "      <td>G.R. No. 121910</td>\n",
       "      <td>NATIONAL WATERWORKS AND SEWERAGE AUTHORITY (NO...</td>\n",
       "      <td>July 03, 1996</td>\n",
       "      <td>https://elibrary.judiciary.gov.ph/thebookshelf...</td>\n",
       "      <td>THIRD DIVISION</td>\n",
       "      <td>MELO, J.:</td>\n",
       "    </tr>\n",
       "  </tbody>\n",
       "</table>\n",
       "<p>29716 rows × 6 columns</p>\n",
       "</div>"
      ],
      "text/plain": [
       "                   case_no                                              title  \\\n",
       "0          G.R. No. 205817  REPUBLIC OF THE PHILIPPINES, PETITIONER, VS. L...   \n",
       "1          G.R. No. 202392  PACIFIC ROYAL BASIC FOODS, INC., PETITIONER, V...   \n",
       "2      G.R. Nos. 199729-30  MANILA BANKERS' LIFE INSURANCE CORPORATION, PE...   \n",
       "3          G.R. No. 229823  PEOPLE OF THE PHILIPPINES, PLAINTIFF-APPELLEE,...   \n",
       "4          G.R. No. 229099  PEOPLE OF THE PHILIPPINES, PLAINTIFF-APPELLEE,...   \n",
       "...                    ...                                                ...   \n",
       "29711      G.R. No. 122807  ROGELIO P. MENDIOLA, PETITIONER, VS. COURT OF ...   \n",
       "29712      G.R. No. 113549  REPUBLIC OF THE PHILIPPINES, (REPRESENTED BY T...   \n",
       "29713      G.R. No. 116600  PEOPLE OF THE PHILIPPINES, PLAINTIFF-APPELLEE,...   \n",
       "29714      G.R. No. 119527  EVELYN J. GARCIA, PETITIONER, VS. NATIONAL LAB...   \n",
       "29715      G.R. No. 121910  NATIONAL WATERWORKS AND SEWERAGE AUTHORITY (NO...   \n",
       "\n",
       "                     date                                          case_link  \\\n",
       "0       October 06, 2021   https://elibrary.judiciary.gov.ph/thebookshelf...   \n",
       "1       October 04, 2021   https://elibrary.judiciary.gov.ph/thebookshelf...   \n",
       "2      February 27, 2019   https://elibrary.judiciary.gov.ph/thebookshelf...   \n",
       "3      February 27, 2019   https://elibrary.judiciary.gov.ph/thebookshelf...   \n",
       "4      February 27, 2019   https://elibrary.judiciary.gov.ph/thebookshelf...   \n",
       "...                   ...                                                ...   \n",
       "29711      July 05, 1996   https://elibrary.judiciary.gov.ph/thebookshelf...   \n",
       "29712      July 05, 1996   https://elibrary.judiciary.gov.ph/thebookshelf...   \n",
       "29713      July 03, 1996   https://elibrary.judiciary.gov.ph/thebookshelf...   \n",
       "29714      July 03, 1996   https://elibrary.judiciary.gov.ph/thebookshelf...   \n",
       "29715      July 03, 1996   https://elibrary.judiciary.gov.ph/thebookshelf...   \n",
       "\n",
       "              division                ponente  \n",
       "0      SECOND DIVISION          HERNANDO, J.:  \n",
       "1      SECOND DIVISION          HERNANDO, J.:  \n",
       "2       THIRD DIVISION     A. REYES, JR., J.:  \n",
       "3       FIRST DIVISION   DEL CASTILLO, J.:[*]  \n",
       "4       FIRST DIVISION   DEL CASTILLO, J.:[*]  \n",
       "...                ...                    ...  \n",
       "29711   FIRST DIVISION  HERMOSISIMA, JR., J.:  \n",
       "29712   THIRD DIVISION        DAVIDE JR., J.:  \n",
       "29713   THIRD DIVISION       DAVIDE, JR., J.:  \n",
       "29714  SECOND DIVISION            ROMERO, J.:  \n",
       "29715   THIRD DIVISION              MELO, J.:  \n",
       "\n",
       "[29716 rows x 6 columns]"
      ]
     },
     "execution_count": 2,
     "metadata": {},
     "output_type": "execute_result"
    }
   ],
   "source": [
    "df= pd.read_csv('sc-cases.csv')\n",
    "df"
   ]
  },
  {
   "cell_type": "markdown",
   "id": "82c5007a",
   "metadata": {},
   "source": [
    "## Cleaning the data"
   ]
  },
  {
   "cell_type": "code",
   "execution_count": 3,
   "id": "2a634d0d",
   "metadata": {},
   "outputs": [
    {
     "data": {
      "text/plain": [
       "A. REYES, JR., J.:           50\n",
       "A. REYES, JR., J.:[*]         1\n",
       "ABAD, J.:                   230\n",
       "AUSTRIA-MARTINEZ,\\r\\nJ.:      8\n",
       "AUSTRIA-MARTINEZ, J.         21\n",
       "                           ... \n",
       "YNARES_SANTIAGO,\\r\\nJ.:       2\n",
       "YNARES_SANTIAGO, J.:          4\n",
       "ZALAMEDA, J.:                46\n",
       "ZALAMEDA, R.V., J.:           2\n",
       "Â MENDOZA, J.:                1\n",
       "Name: ponente, Length: 297, dtype: int64"
      ]
     },
     "execution_count": 3,
     "metadata": {},
     "output_type": "execute_result"
    }
   ],
   "source": [
    "df.ponente.value_counts().sort_index()"
   ]
  },
  {
   "cell_type": "markdown",
   "id": "679c5dc4",
   "metadata": {},
   "source": [
    "### Removing some elements from ponente name\n",
    "\n",
    "Across different cases, names of justices who penned the decision are written differently. Cleaning them to ensure they are of the same format will allow us to get a clearer sense of how many decisions they have written once we **groupby**."
   ]
  },
  {
   "cell_type": "code",
   "execution_count": 4,
   "id": "b16cb410",
   "metadata": {},
   "outputs": [
    {
     "name": "stderr",
     "output_type": "stream",
     "text": [
      "/var/folders/01/dz49lpcd4qq_yksvf114xzfc0000gn/T/ipykernel_3636/3550154347.py:4: FutureWarning: The default value of regex will change from True to False in a future version. In addition, single character regular expressions will *not* be treated as literal strings when regex=True.\n",
      "/var/folders/01/dz49lpcd4qq_yksvf114xzfc0000gn/T/ipykernel_3636/3550154347.py:5: FutureWarning: The default value of regex will change from True to False in a future version. In addition, single character regular expressions will *not* be treated as literal strings when regex=True.\n",
      "/var/folders/01/dz49lpcd4qq_yksvf114xzfc0000gn/T/ipykernel_3636/3550154347.py:6: FutureWarning: The default value of regex will change from True to False in a future version. In addition, single character regular expressions will *not* be treated as literal strings when regex=True.\n",
      "/var/folders/01/dz49lpcd4qq_yksvf114xzfc0000gn/T/ipykernel_3636/3550154347.py:7: FutureWarning: The default value of regex will change from True to False in a future version. In addition, single character regular expressions will *not* be treated as literal strings when regex=True.\n"
     ]
    }
   ],
   "source": [
    "df.ponente = df.ponente.str.replace('J', '')\n",
    "df.ponente = df.ponente.str.replace(':', \"\")\n",
    "df.ponente = df.ponente.str.replace(',', '')\n",
    "df.ponente = df.ponente.str.replace('.', '')\n",
    "df.ponente = df.ponente.str.replace('*', '')\n",
    "df.ponente = df.ponente.str.replace('[', '')\n",
    "df.ponente = df.ponente.str.replace(']', '')\n",
    "df.ponente = df.ponente.str.replace(';', '')\n",
    "df.ponente = df.ponente.str.replace('\\r', '')\n",
    "df.ponente = df.ponente.str.replace('\\n', '')"
   ]
  },
  {
   "cell_type": "code",
   "execution_count": 5,
   "id": "7cd289b5",
   "metadata": {},
   "outputs": [
    {
     "data": {
      "text/plain": [
       "0             HERNANDO\n",
       "1             HERNANDO\n",
       "2            A REYES R\n",
       "3         DEL CASTILLO\n",
       "4         DEL CASTILLO\n",
       "             ...      \n",
       "29711    HERMOSISIMA R\n",
       "29712         DAVIDE R\n",
       "29713         DAVIDE R\n",
       "29714           ROMERO\n",
       "29715             MELO\n",
       "Name: ponente, Length: 29716, dtype: object"
      ]
     },
     "execution_count": 5,
     "metadata": {},
     "output_type": "execute_result"
    }
   ],
   "source": [
    "df.ponente = df.ponente.str.replace('Acting C', '')\n",
    "df.ponente = df.ponente.str.replace('ACTING C', '')\n",
    "df.ponente.str.strip() "
   ]
  },
  {
   "cell_type": "code",
   "execution_count": 6,
   "id": "c222d8e0",
   "metadata": {},
   "outputs": [
    {
     "data": {
      "text/plain": [
       " REYES R                   71\n",
       " STEVENS-LERK OF COURT      1\n",
       "A REYES R                  51\n",
       "ABAD                      230\n",
       "ARDELEZA                  169\n",
       "                         ... \n",
       "YNARES_SANTIAGO             2\n",
       "YNARES_SANTIAGO             4\n",
       "ZALAMEDA                   46\n",
       "ZALAMEDA RV                 2\n",
       "Â MENDOZA                   1\n",
       "Name: ponente, Length: 175, dtype: int64"
      ]
     },
     "execution_count": 6,
     "metadata": {},
     "output_type": "execute_result"
    }
   ],
   "source": [
    "df.ponente.value_counts().sort_index()"
   ]
  },
  {
   "cell_type": "markdown",
   "id": "6bcaa85f",
   "metadata": {},
   "source": [
    "## Convert date to datetime\n",
    "\n",
    "This will allow us to easily analyze decisions by timeframe. For instance, knowing how many decisions are promulgated at certain period of time."
   ]
  },
  {
   "cell_type": "code",
   "execution_count": 7,
   "id": "2a17cbc3",
   "metadata": {},
   "outputs": [],
   "source": [
    "df.date = pd.to_datetime(df.date)"
   ]
  },
  {
   "cell_type": "code",
   "execution_count": 8,
   "id": "2f21bd3c",
   "metadata": {},
   "outputs": [
    {
     "data": {
      "text/html": [
       "<div>\n",
       "<style scoped>\n",
       "    .dataframe tbody tr th:only-of-type {\n",
       "        vertical-align: middle;\n",
       "    }\n",
       "\n",
       "    .dataframe tbody tr th {\n",
       "        vertical-align: top;\n",
       "    }\n",
       "\n",
       "    .dataframe thead th {\n",
       "        text-align: right;\n",
       "    }\n",
       "</style>\n",
       "<table border=\"1\" class=\"dataframe\">\n",
       "  <thead>\n",
       "    <tr style=\"text-align: right;\">\n",
       "      <th></th>\n",
       "      <th>case_no</th>\n",
       "      <th>title</th>\n",
       "      <th>date</th>\n",
       "      <th>case_link</th>\n",
       "      <th>division</th>\n",
       "      <th>ponente</th>\n",
       "    </tr>\n",
       "  </thead>\n",
       "  <tbody>\n",
       "    <tr>\n",
       "      <th>0</th>\n",
       "      <td>G.R. No. 205817</td>\n",
       "      <td>REPUBLIC OF THE PHILIPPINES, PETITIONER, VS. L...</td>\n",
       "      <td>2021-10-06</td>\n",
       "      <td>https://elibrary.judiciary.gov.ph/thebookshelf...</td>\n",
       "      <td>SECOND DIVISION</td>\n",
       "      <td>HERNANDO</td>\n",
       "    </tr>\n",
       "    <tr>\n",
       "      <th>1</th>\n",
       "      <td>G.R. No. 202392</td>\n",
       "      <td>PACIFIC ROYAL BASIC FOODS, INC., PETITIONER, V...</td>\n",
       "      <td>2021-10-04</td>\n",
       "      <td>https://elibrary.judiciary.gov.ph/thebookshelf...</td>\n",
       "      <td>SECOND DIVISION</td>\n",
       "      <td>HERNANDO</td>\n",
       "    </tr>\n",
       "    <tr>\n",
       "      <th>2</th>\n",
       "      <td>G.R. Nos. 199729-30</td>\n",
       "      <td>MANILA BANKERS' LIFE INSURANCE CORPORATION, PE...</td>\n",
       "      <td>2019-02-27</td>\n",
       "      <td>https://elibrary.judiciary.gov.ph/thebookshelf...</td>\n",
       "      <td>THIRD DIVISION</td>\n",
       "      <td>A REYES R</td>\n",
       "    </tr>\n",
       "    <tr>\n",
       "      <th>3</th>\n",
       "      <td>G.R. No. 229823</td>\n",
       "      <td>PEOPLE OF THE PHILIPPINES, PLAINTIFF-APPELLEE,...</td>\n",
       "      <td>2019-02-27</td>\n",
       "      <td>https://elibrary.judiciary.gov.ph/thebookshelf...</td>\n",
       "      <td>FIRST DIVISION</td>\n",
       "      <td>DEL CASTILLO</td>\n",
       "    </tr>\n",
       "    <tr>\n",
       "      <th>4</th>\n",
       "      <td>G.R. No. 229099</td>\n",
       "      <td>PEOPLE OF THE PHILIPPINES, PLAINTIFF-APPELLEE,...</td>\n",
       "      <td>2019-02-27</td>\n",
       "      <td>https://elibrary.judiciary.gov.ph/thebookshelf...</td>\n",
       "      <td>FIRST DIVISION</td>\n",
       "      <td>DEL CASTILLO</td>\n",
       "    </tr>\n",
       "    <tr>\n",
       "      <th>...</th>\n",
       "      <td>...</td>\n",
       "      <td>...</td>\n",
       "      <td>...</td>\n",
       "      <td>...</td>\n",
       "      <td>...</td>\n",
       "      <td>...</td>\n",
       "    </tr>\n",
       "    <tr>\n",
       "      <th>29711</th>\n",
       "      <td>G.R. No. 122807</td>\n",
       "      <td>ROGELIO P. MENDIOLA, PETITIONER, VS. COURT OF ...</td>\n",
       "      <td>1996-07-05</td>\n",
       "      <td>https://elibrary.judiciary.gov.ph/thebookshelf...</td>\n",
       "      <td>FIRST DIVISION</td>\n",
       "      <td>HERMOSISIMA R</td>\n",
       "    </tr>\n",
       "    <tr>\n",
       "      <th>29712</th>\n",
       "      <td>G.R. No. 113549</td>\n",
       "      <td>REPUBLIC OF THE PHILIPPINES, (REPRESENTED BY T...</td>\n",
       "      <td>1996-07-05</td>\n",
       "      <td>https://elibrary.judiciary.gov.ph/thebookshelf...</td>\n",
       "      <td>THIRD DIVISION</td>\n",
       "      <td>DAVIDE R</td>\n",
       "    </tr>\n",
       "    <tr>\n",
       "      <th>29713</th>\n",
       "      <td>G.R. No. 116600</td>\n",
       "      <td>PEOPLE OF THE PHILIPPINES, PLAINTIFF-APPELLEE,...</td>\n",
       "      <td>1996-07-03</td>\n",
       "      <td>https://elibrary.judiciary.gov.ph/thebookshelf...</td>\n",
       "      <td>THIRD DIVISION</td>\n",
       "      <td>DAVIDE R</td>\n",
       "    </tr>\n",
       "    <tr>\n",
       "      <th>29714</th>\n",
       "      <td>G.R. No. 119527</td>\n",
       "      <td>EVELYN J. GARCIA, PETITIONER, VS. NATIONAL LAB...</td>\n",
       "      <td>1996-07-03</td>\n",
       "      <td>https://elibrary.judiciary.gov.ph/thebookshelf...</td>\n",
       "      <td>SECOND DIVISION</td>\n",
       "      <td>ROMERO</td>\n",
       "    </tr>\n",
       "    <tr>\n",
       "      <th>29715</th>\n",
       "      <td>G.R. No. 121910</td>\n",
       "      <td>NATIONAL WATERWORKS AND SEWERAGE AUTHORITY (NO...</td>\n",
       "      <td>1996-07-03</td>\n",
       "      <td>https://elibrary.judiciary.gov.ph/thebookshelf...</td>\n",
       "      <td>THIRD DIVISION</td>\n",
       "      <td>MELO</td>\n",
       "    </tr>\n",
       "  </tbody>\n",
       "</table>\n",
       "<p>29716 rows × 6 columns</p>\n",
       "</div>"
      ],
      "text/plain": [
       "                   case_no                                              title  \\\n",
       "0          G.R. No. 205817  REPUBLIC OF THE PHILIPPINES, PETITIONER, VS. L...   \n",
       "1          G.R. No. 202392  PACIFIC ROYAL BASIC FOODS, INC., PETITIONER, V...   \n",
       "2      G.R. Nos. 199729-30  MANILA BANKERS' LIFE INSURANCE CORPORATION, PE...   \n",
       "3          G.R. No. 229823  PEOPLE OF THE PHILIPPINES, PLAINTIFF-APPELLEE,...   \n",
       "4          G.R. No. 229099  PEOPLE OF THE PHILIPPINES, PLAINTIFF-APPELLEE,...   \n",
       "...                    ...                                                ...   \n",
       "29711      G.R. No. 122807  ROGELIO P. MENDIOLA, PETITIONER, VS. COURT OF ...   \n",
       "29712      G.R. No. 113549  REPUBLIC OF THE PHILIPPINES, (REPRESENTED BY T...   \n",
       "29713      G.R. No. 116600  PEOPLE OF THE PHILIPPINES, PLAINTIFF-APPELLEE,...   \n",
       "29714      G.R. No. 119527  EVELYN J. GARCIA, PETITIONER, VS. NATIONAL LAB...   \n",
       "29715      G.R. No. 121910  NATIONAL WATERWORKS AND SEWERAGE AUTHORITY (NO...   \n",
       "\n",
       "            date                                          case_link  \\\n",
       "0     2021-10-06  https://elibrary.judiciary.gov.ph/thebookshelf...   \n",
       "1     2021-10-04  https://elibrary.judiciary.gov.ph/thebookshelf...   \n",
       "2     2019-02-27  https://elibrary.judiciary.gov.ph/thebookshelf...   \n",
       "3     2019-02-27  https://elibrary.judiciary.gov.ph/thebookshelf...   \n",
       "4     2019-02-27  https://elibrary.judiciary.gov.ph/thebookshelf...   \n",
       "...          ...                                                ...   \n",
       "29711 1996-07-05  https://elibrary.judiciary.gov.ph/thebookshelf...   \n",
       "29712 1996-07-05  https://elibrary.judiciary.gov.ph/thebookshelf...   \n",
       "29713 1996-07-03  https://elibrary.judiciary.gov.ph/thebookshelf...   \n",
       "29714 1996-07-03  https://elibrary.judiciary.gov.ph/thebookshelf...   \n",
       "29715 1996-07-03  https://elibrary.judiciary.gov.ph/thebookshelf...   \n",
       "\n",
       "              division         ponente  \n",
       "0      SECOND DIVISION       HERNANDO   \n",
       "1      SECOND DIVISION       HERNANDO   \n",
       "2       THIRD DIVISION      A REYES R   \n",
       "3       FIRST DIVISION   DEL CASTILLO   \n",
       "4       FIRST DIVISION   DEL CASTILLO   \n",
       "...                ...             ...  \n",
       "29711   FIRST DIVISION  HERMOSISIMA R   \n",
       "29712   THIRD DIVISION       DAVIDE R   \n",
       "29713   THIRD DIVISION       DAVIDE R   \n",
       "29714  SECOND DIVISION         ROMERO   \n",
       "29715   THIRD DIVISION           MELO   \n",
       "\n",
       "[29716 rows x 6 columns]"
      ]
     },
     "execution_count": 8,
     "metadata": {},
     "output_type": "execute_result"
    }
   ],
   "source": [
    "df"
   ]
  },
  {
   "cell_type": "markdown",
   "id": "deca92b3",
   "metadata": {},
   "source": [
    "## Initial analysis"
   ]
  },
  {
   "cell_type": "code",
   "execution_count": null,
   "id": "de569f7a",
   "metadata": {},
   "outputs": [],
   "source": []
  }
 ],
 "metadata": {
  "kernelspec": {
   "display_name": "Python 3 (ipykernel)",
   "language": "python",
   "name": "python3"
  },
  "language_info": {
   "codemirror_mode": {
    "name": "ipython",
    "version": 3
   },
   "file_extension": ".py",
   "mimetype": "text/x-python",
   "name": "python",
   "nbconvert_exporter": "python",
   "pygments_lexer": "ipython3",
   "version": "3.10.0"
  }
 },
 "nbformat": 4,
 "nbformat_minor": 5
}
